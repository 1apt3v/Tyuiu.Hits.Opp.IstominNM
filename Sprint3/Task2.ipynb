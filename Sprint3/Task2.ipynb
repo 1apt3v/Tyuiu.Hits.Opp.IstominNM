{
 "cells": [
  {
   "cell_type": "markdown",
   "metadata": {},
   "source": [
    "<h1 style=\"color:DodgerBlue\">Generic классы в C#</h1>\n"
   ]
  },
  {
   "cell_type": "markdown",
   "metadata": {},
   "source": [
    "Генерические классы в C# представляют собой шаблон класса, который может работать с различными типами данных без потери производительности. Они позволяют создавать компоненты, которые могут быть безопасно повторно использованы в различных контекстах, обеспечивая при этом строгую типизацию и избегая необходимости приведения типов.\n",
    "\n",
    "#### Основные преимущества генерических классов:\n",
    "\n",
    "1. **Безопасность типов**: Генерические классы обеспечивают проверку типов на этапе компиляции, что помогает предотвратить ошибки во время выполнения.\n",
    "2. **Универсальность**: Генерические классы могут работать с различными типами данных, делая их очень гибкими и универсальными.\n",
    "3. **Производительность**: Генерические классы не приводят к значительной потере производительности, поскольку информация о типе хранится вместе с объектом.\n",
    "\n",
    "#### Пример с классами `Vehicle`, `Car` и `Motorcycle`\n",
    "\n",
    "Давайте рассмотрим пример генерического класса `VehicleCollection<T>`, который может хранить коллекцию объектов типа `T`, где `T` может быть любой строкой, например, `Vehicle`, `Car` или `Motorcycle`.\n",
    "\n",
    "```csharp\n",
    "using System;\n",
    "using System.Collections.Generic;\n",
    "\n",
    "// Определение базового класса Vehicle\n",
    "public class Vehicle\n",
    "{\n",
    "    public virtual void Drive()\n",
    "    {\n",
    "        Console.WriteLine(\"The vehicle is driving.\");\n",
    "    }\n",
    "}\n",
    "\n",
    "// Определение производного класса Car\n",
    "public class Car : Vehicle\n",
    "{\n",
    "    public override void Drive()\n",
    "    {\n",
    "        Console.WriteLine(\"The car is driving.\");\n",
    "    }\n",
    "}\n",
    "\n",
    "// Определение производного класса Motorcycle\n",
    "public class Motorcycle : Vehicle\n",
    "{\n",
    "    public override void Drive()\n",
    "    {\n",
    "        Console.WriteLine(\"The motorcycle is riding.\");\n",
    "    }\n",
    "}\n",
    "\n",
    "// Определение генерического класса VehicleCollection<T>\n",
    "public class VehicleCollection<T> where T : Vehicle\n",
    "{\n",
    "    private List<T> _vehicles = new List<T>();\n",
    "\n",
    "    public void Add(T vehicle)\n",
    "    {\n",
    "        _vehicles.Add(vehicle);\n",
    "    }\n",
    "\n",
    "    public void Remove(T vehicle)\n",
    "    {\n",
    "        _vehicles.Remove(vehicle);\n",
    "    }\n",
    "\n",
    "    public void DisplayVehicles()\n",
    "    {\n",
    "        foreach (var vehicle in _vehicles)\n",
    "        {\n",
    "            vehicle.Drive(); // Вызов метода Drive() для каждого транспортного средства\n",
    "        }\n",
    "    }\n",
    "}\n",
    "\n",
    "class Program\n",
    "{\n",
    "    static void Main(string[] args)\n",
    "    {\n",
    "        VehicleCollection<Car> cars = new VehicleCollection<Car>();\n",
    "        cars.Add(new Car());\n",
    "        cars.Add(new Motorcycle()); // Это возможно благодаря ограничению \"where T : Vehicle\"\n",
    "\n",
    "        cars.DisplayVehicles(); // Выводит: \"The car is driving.\" и \"The motorcycle is riding.\"\n",
    "    }\n",
    "}\n",
    "```\n",
    "\n",
    "В этом примере `VehicleCollection<T>` является генерическим классом, который может хранить коллекцию объектов типа `T`, где `T` должен быть подклассом `Vehicle`. Это позволяет создавать коллекции автомобилей, мотоциклов и других видов транспортных средств, обеспечивая при этом строгую типизацию и безопасность типов.\n",
    "\n",
    "### Заключение\n",
    "\n",
    "Генерические классы в C# предоставляют мощный и гибкий способ создания компонентов, которые могут работать с различными типами данных, обеспечивая при этом строгую типизацию и безопасность типов. Это делает их идеальным выбором для многих задач, требующих повторного использования кода с высокой степенью абстракции."
   ]
  }
 ],
 "metadata": {
  "kernelspec": {
   "display_name": ".NET (C#)",
   "language": "C#",
   "name": ".net-csharp"
  },
  "polyglot_notebook": {
   "kernelInfo": {
    "defaultKernelName": "csharp",
    "items": [
     {
      "aliases": [],
      "languageName": "csharp",
      "name": "csharp"
     }
    ]
   }
  }
 },
 "nbformat": 4,
 "nbformat_minor": 2
}
