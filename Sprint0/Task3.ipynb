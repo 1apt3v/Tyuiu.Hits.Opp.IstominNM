{
 "cells": [
  {
   "cell_type": "markdown",
   "metadata": {},
   "source": [
    "<h1 style=\"color:DodgerBlue\">Индивидальный проект</h1>"
   ]
  },
  {
   "cell_type": "markdown",
   "metadata": {},
   "source": [
    "<h2 style=\"color:DodgerBlue\">Название проекта:</h2>\n",
    "\n",
    "----\n",
    "\n",
    "### Вариант задания \n",
    "\n",
    "<h2>Описание:</h2>\n",
    "\n",
    "Создать базовый класс Person в C#, который будет представлять информацию о\n",
    "человеке. На основе этого класса разработать 2-3 производных класса,\n",
    "демонстрирующих принципы наследования и полиморфизма. В каждом из классов\n",
    "должны быть реализованы новые атрибуты и методы, а также переопределены\n",
    "некоторые методы базового класса для демонстрации полиморфизма.\n",
    "\n",
    "<h2>Требования к базовому классу Person:</h2>\n",
    "\n",
    "- Атрибуты: Имя (Name), Возраст (Age), Пол (Gender).\n",
    "- Методы:\n",
    "    - GetInfo(): метод для получения информации о человеке в виде строки.\n",
    "    - SayHello(): метод для вывода приветствия от человека.\n",
    "\n",
    "<h2>Требования к производным классам:</h2>\n",
    "\n",
    "1. Студент (Student): Должен содержать дополнительные атрибуты, такие как\n",
    "Университет (University) и Курс (Course). Метод SayHello() должен быть\n",
    "переопределен для добавления информации о курсе при приветствии.\n",
    "2. Работник (Employee): Должен содержать дополнительные атрибуты, такие\n",
    "как Компания (Company) и Зарплата (Salary). Метод GetInfo() должен быть\n",
    "переопределен для включения информации о компании и зарплате.\n",
    "3. Преподаватель (Teacher) (если требуется третий класс): Должен содержать\n",
    "дополнительные атрибуты, такие как Предмет (Subject) и Стаж работы\n",
    "(Experience). Метод SayHello() должен быть переопределен для добавления\n",
    "информации о преподаваемом предмете при приветствии."
   ]
  },
  {
   "cell_type": "markdown",
   "metadata": {},
   "source": [
    "<h2 style=\"color:DodgerBlue\">Описание проекта:</h2>\n",
    "\n",
    "----\n",
    "\n",
    "Для выполнения задания были реализованы следующие классы: Person, Student, Employee, Teacher. Последние три класса производят наследование от класса Person.\n",
    "Класс Person хранит в себе метод для получения информации о человеке, который в дальнейшем применяется и в других классах. В остальных класса определяется своя необходимая информация и методы, которые требуются по условию.\n",
    "\n",
    "В качестве проверки выполнения всех условий описаны примеры применения каждого класса\n"
   ]
  },
  {
   "cell_type": "markdown",
   "metadata": {},
   "source": [
    "<h2 style=\"color:DodgerBlue\">Реализация:</h2>\n",
    "\n",
    "----"
   ]
  },
  {
   "cell_type": "code",
   "execution_count": 2,
   "metadata": {
    "dotnet_interactive": {
     "language": "csharp"
    },
    "polyglot_notebook": {
     "kernelName": "csharp"
    }
   },
   "outputs": [],
   "source": [
    "using System;\n",
    "\n",
    "public class Person\n",
    "{\n",
    "    public string Name { get; set; }\n",
    "    public int Age { get; set; }\n",
    "    public string Gender { get; set; }\n",
    "\n",
    "    public Person(string name, int age, string gender)\n",
    "    {\n",
    "        Name = name;\n",
    "        Age = age;\n",
    "        Gender = gender;\n",
    "    }\n",
    "\n",
    "    public virtual string GetInfo()\n",
    "    {\n",
    "        return $\"Имя: {Name}, Возраст: {Age}, Пол: {Gender}\";\n",
    "    }\n",
    "\n",
    "    public virtual void SayHello()\n",
    "    {\n",
    "        Console.WriteLine($\"Приветствую\");\n",
    "    }\n",
    "}\n",
    "\n",
    "public class Student : Person\n",
    "{\n",
    "    public string University { get; set; }\n",
    "    public string Course { get; set; }\n",
    "\n",
    "    public Student(string name, int age, string gender, string university, string course) : base(name, age, gender)\n",
    "    {\n",
    "        University = university;\n",
    "        Course = course;\n",
    "    }\n",
    "\n",
    "    public override void SayHello()\n",
    "    {\n",
    "        Console.WriteLine($\"Привет, меня зовут {Name}, я учусь на {Course} в {University}\");\n",
    "    }\n",
    "}\n",
    "\n",
    "public class Employee : Person\n",
    "{\n",
    "    public string Company { get; set; }\n",
    "    public double Salary { get; set; }\n",
    "\n",
    "    public Employee(string name, int age, string gender, string company, double salary) : base(name, age, gender)\n",
    "    {\n",
    "        Company = company;\n",
    "        Salary = salary;\n",
    "    }\n",
    "\n",
    "    public override string GetInfo()\n",
    "    {\n",
    "        return $\"{base.GetInfo()}, компания: {Company}, зарплата: {Salary:C}\";\n",
    "    }\n",
    "}\n",
    "\n",
    "public class Teacher : Person\n",
    "{\n",
    "    public string Subject { get; set; }\n",
    "    public int Experience { get; set; }\n",
    "\n",
    "    public Teacher(string name, int age, string gender, string subject, int experience)\n",
    "        : base(name, age, gender)\n",
    "    {\n",
    "        Subject = subject;\n",
    "        Experience = experience;\n",
    "    }\n",
    "\n",
    "    public override void SayHello()\n",
    "    {\n",
    "        Console.WriteLine($\"Привет, меня зовут {Name}, я преподаю дисциплину {Subject} уже {Experience} лет\");\n",
    "    }\n",
    "}"
   ]
  },
  {
   "cell_type": "code",
   "execution_count": null,
   "metadata": {},
   "outputs": [
    {
     "name": "stdout",
     "output_type": "stream",
     "text": [
      "Имя: Игорь Иванов, Возраст: 35, Пол: Мужчина\n",
      "Приветствую\n",
      "\n",
      "Имя: Алиса Жирикова, Возраст: 22, Пол: Женщина\n",
      "Привет, меня зовут Алиса Жирикова, я учусь на Программирование в Тюменский индустриальный университет\n",
      "\n",
      "Имя: Арсений Васенин, Возраст: 25, Пол: Мужчина, компания: ООО \"СуперПупер\", зарплата: ¤50,000.00\n",
      "Приветствую\n",
      "\n",
      "Имя: Ольга Рукова, Возраст: 40, Пол: Женщина\n",
      "Привет, меня зовут Ольга Рукова, я преподаю дисциплину Математика уже 20 лет\n"
     ]
    }
   ],
   "source": [
    "\n",
    "Person person = new Person(\"Игорь Иванов\", 35, \"Мужчина\");\n",
    "Student student = new Student(\"Алиса Жирикова\", 22, \"Женщина\", \"Тюменский индустриальный университет\", \"Программирование\");\n",
    "Employee employee = new Employee(\"Арсений Васенин\", 25, \"Мужчина\", \"ООО \\\"СуперПупер\\\"\", 50000);\n",
    "Teacher teacher = new Teacher(\"Ольга Рукова\", 40, \"Женщина\", \"Математика\", 20);\n",
    "\n",
    "Console.WriteLine(person.GetInfo());\n",
    "person.SayHello();\n",
    "Console.WriteLine();\n",
    "\n",
    "Console.WriteLine(student.GetInfo());\n",
    "student.SayHello();\n",
    "Console.WriteLine();\n",
    "\n",
    "Console.WriteLine(employee.GetInfo());\n",
    "employee.SayHello();\n",
    "Console.WriteLine();\n",
    "\n",
    "Console.WriteLine(teacher.GetInfo());\n",
    "teacher.SayHello();"
   ]
  }
 ],
 "metadata": {
  "kernelspec": {
   "display_name": ".NET (C#)",
   "language": "C#",
   "name": ".net-csharp"
  },
  "polyglot_notebook": {
   "kernelInfo": {
    "defaultKernelName": "csharp",
    "items": [
     {
      "aliases": [],
      "languageName": "csharp",
      "name": "csharp"
     }
    ]
   }
  }
 },
 "nbformat": 4,
 "nbformat_minor": 2
}
